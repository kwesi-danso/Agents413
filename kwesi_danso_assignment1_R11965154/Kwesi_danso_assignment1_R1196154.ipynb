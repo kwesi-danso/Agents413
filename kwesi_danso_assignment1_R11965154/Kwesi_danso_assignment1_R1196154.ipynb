{
 "cells": [
  {
   "attachments": {},
   "cell_type": "markdown",
   "metadata": {},
   "source": [
    "## Task 1: Data Exploration and Understanding "
   ]
  },
  {
   "cell_type": "code",
   "execution_count": 65,
   "metadata": {},
   "outputs": [
    {
     "name": "stderr",
     "output_type": "stream",
     "text": [
      "[nltk_data] Downloading package wordnet to\n",
      "[nltk_data]     C:\\Users\\NikoBelin\\AppData\\Roaming\\nltk_data...\n",
      "[nltk_data]   Package wordnet is already up-to-date!\n",
      "[nltk_data] Downloading package omw-1.4 to\n",
      "[nltk_data]     C:\\Users\\NikoBelin\\AppData\\Roaming\\nltk_data...\n",
      "[nltk_data]   Package omw-1.4 is already up-to-date!\n",
      "[nltk_data] Downloading package punkt to\n",
      "[nltk_data]     C:\\Users\\NikoBelin\\AppData\\Roaming\\nltk_data...\n",
      "[nltk_data]   Package punkt is already up-to-date!\n",
      "[nltk_data] Downloading package stopwords to\n",
      "[nltk_data]     C:\\Users\\NikoBelin\\AppData\\Roaming\\nltk_data...\n",
      "[nltk_data]   Package stopwords is already up-to-date!\n",
      "[nltk_data] Downloading package averaged_perceptron_tagger to\n",
      "[nltk_data]     C:\\Users\\NikoBelin\\AppData\\Roaming\\nltk_data...\n",
      "[nltk_data]   Package averaged_perceptron_tagger is already up-to-\n",
      "[nltk_data]       date!\n",
      "[nltk_data] Downloading package tagsets_json to\n",
      "[nltk_data]     C:\\Users\\NikoBelin\\AppData\\Roaming\\nltk_data...\n",
      "[nltk_data]   Package tagsets_json is already up-to-date!\n"
     ]
    },
    {
     "data": {
      "text/plain": [
       "True"
      ]
     },
     "execution_count": 65,
     "metadata": {},
     "output_type": "execute_result"
    }
   ],
   "source": [
    "# all the necessary libraries have been imported here\n",
    "\n",
    "import numpy as np\n",
    "import pandas as pd\n",
    "import matplotlib.pyplot as plt\n",
    "import seaborn as sns\n",
    "import string\n",
    "import time\n",
    "import nltk\n",
    "import matplotlib.pyplot as plt\n",
    "\n",
    "# Sklearn libraries for machine learning and text processing\n",
    "from sklearn.feature_extraction.text import TfidfVectorizer, CountVectorizer\n",
    "from sklearn.model_selection import train_test_split\n",
    "from sklearn.svm import SVC\n",
    "from sklearn.tree import DecisionTreeClassifier\n",
    "from sklearn import metrics\n",
    "\n",
    "\n",
    "\n",
    "# NLTK libraries for text processing (lemmatization, stemming, stopwords, POS tagging)\n",
    "import nltk\n",
    "from nltk.corpus import stopwords, wordnet\n",
    "from nltk.stem import WordNetLemmatizer, PorterStemmer\n",
    "from nltk import pos_tag\n",
    "\n",
    "# Download necessary NLTK resources for text processing\n",
    "nltk.download('wordnet')  # WordNet for lemmatization\n",
    "nltk.download('omw-1.4')  # Open Multilingual Wordnet\n",
    "nltk.download('punkt')  # Tokenizer\n",
    "nltk.download('stopwords')  # Stopwords for text cleaning\n",
    "nltk.download('averaged_perceptron_tagger')  # POS tagger for part-of-speech tagging\n",
    "nltk.download('tagsets_json')  # Tagset resource\n",
    "\n"
   ]
  },
  {
   "cell_type": "code",
   "execution_count": 66,
   "metadata": {},
   "outputs": [],
   "source": [
    "# Train and test data loaded here\n",
    "df_train = pd.read_excel(\"Assignment 1 Data/AI_vs_huam_train_dataset.xlsx\")\n",
    "df_test = pd.read_csv(\"Assignment 1 Data/final_test_data.csv\")"
   ]
  },
  {
   "cell_type": "code",
   "execution_count": 67,
   "metadata": {},
   "outputs": [
    {
     "data": {
      "text/html": [
       "<div>\n",
       "<style scoped>\n",
       "    .dataframe tbody tr th:only-of-type {\n",
       "        vertical-align: middle;\n",
       "    }\n",
       "\n",
       "    .dataframe tbody tr th {\n",
       "        vertical-align: top;\n",
       "    }\n",
       "\n",
       "    .dataframe thead th {\n",
       "        text-align: right;\n",
       "    }\n",
       "</style>\n",
       "<table border=\"1\" class=\"dataframe\">\n",
       "  <thead>\n",
       "    <tr style=\"text-align: right;\">\n",
       "      <th></th>\n",
       "      <th>label</th>\n",
       "    </tr>\n",
       "  </thead>\n",
       "  <tbody>\n",
       "    <tr>\n",
       "      <th>count</th>\n",
       "      <td>3728.000000</td>\n",
       "    </tr>\n",
       "    <tr>\n",
       "      <th>mean</th>\n",
       "      <td>0.500000</td>\n",
       "    </tr>\n",
       "    <tr>\n",
       "      <th>std</th>\n",
       "      <td>0.500067</td>\n",
       "    </tr>\n",
       "    <tr>\n",
       "      <th>min</th>\n",
       "      <td>0.000000</td>\n",
       "    </tr>\n",
       "    <tr>\n",
       "      <th>25%</th>\n",
       "      <td>0.000000</td>\n",
       "    </tr>\n",
       "    <tr>\n",
       "      <th>50%</th>\n",
       "      <td>0.500000</td>\n",
       "    </tr>\n",
       "    <tr>\n",
       "      <th>75%</th>\n",
       "      <td>1.000000</td>\n",
       "    </tr>\n",
       "    <tr>\n",
       "      <th>max</th>\n",
       "      <td>1.000000</td>\n",
       "    </tr>\n",
       "  </tbody>\n",
       "</table>\n",
       "</div>"
      ],
      "text/plain": [
       "             label\n",
       "count  3728.000000\n",
       "mean      0.500000\n",
       "std       0.500067\n",
       "min       0.000000\n",
       "25%       0.000000\n",
       "50%       0.500000\n",
       "75%       1.000000\n",
       "max       1.000000"
      ]
     },
     "execution_count": 67,
     "metadata": {},
     "output_type": "execute_result"
    }
   ],
   "source": [
    "# Description of the train data set which contains the count and other relevant info\n",
    "df_train.describe()"
   ]
  },
  {
   "cell_type": "code",
   "execution_count": 68,
   "metadata": {},
   "outputs": [
    {
     "data": {
      "text/plain": [
       "label\n",
       "0    1864\n",
       "1    1864\n",
       "Name: count, dtype: int64"
      ]
     },
     "execution_count": 68,
     "metadata": {},
     "output_type": "execute_result"
    }
   ],
   "source": [
    "# label category count of train data\n",
    "df_train[\"label\"].value_counts()"
   ]
  },
  {
   "cell_type": "code",
   "execution_count": 69,
   "metadata": {},
   "outputs": [
    {
     "data": {
      "text/html": [
       "<div>\n",
       "<style scoped>\n",
       "    .dataframe tbody tr th:only-of-type {\n",
       "        vertical-align: middle;\n",
       "    }\n",
       "\n",
       "    .dataframe tbody tr th {\n",
       "        vertical-align: top;\n",
       "    }\n",
       "\n",
       "    .dataframe thead th {\n",
       "        text-align: right;\n",
       "    }\n",
       "</style>\n",
       "<table border=\"1\" class=\"dataframe\">\n",
       "  <thead>\n",
       "    <tr style=\"text-align: right;\">\n",
       "      <th></th>\n",
       "      <th>essay</th>\n",
       "      <th>label</th>\n",
       "    </tr>\n",
       "  </thead>\n",
       "  <tbody>\n",
       "    <tr>\n",
       "      <th>0</th>\n",
       "      <td>International sports events require the most w...</td>\n",
       "      <td>0</td>\n",
       "    </tr>\n",
       "    <tr>\n",
       "      <th>1</th>\n",
       "      <td>Globalisation has become a significant aspect ...</td>\n",
       "      <td>0</td>\n",
       "    </tr>\n",
       "    <tr>\n",
       "      <th>2</th>\n",
       "      <td>There is an ever-increasing number of bullying...</td>\n",
       "      <td>0</td>\n",
       "    </tr>\n",
       "    <tr>\n",
       "      <th>3</th>\n",
       "      <td>It is commonly believed, that companies should...</td>\n",
       "      <td>0</td>\n",
       "    </tr>\n",
       "    <tr>\n",
       "      <th>4</th>\n",
       "      <td>Despite knowing about the adverse effects of c...</td>\n",
       "      <td>0</td>\n",
       "    </tr>\n",
       "    <tr>\n",
       "      <th>5</th>\n",
       "      <td>These days the space exploration is not just a...</td>\n",
       "      <td>0</td>\n",
       "    </tr>\n",
       "    <tr>\n",
       "      <th>6</th>\n",
       "      <td>Regarding the suggestions that governments sho...</td>\n",
       "      <td>0</td>\n",
       "    </tr>\n",
       "    <tr>\n",
       "      <th>7</th>\n",
       "      <td>The ability to associate at school has been a ...</td>\n",
       "      <td>0</td>\n",
       "    </tr>\n",
       "    <tr>\n",
       "      <th>8</th>\n",
       "      <td>It is true that today, people tend to give bir...</td>\n",
       "      <td>0</td>\n",
       "    </tr>\n",
       "    <tr>\n",
       "      <th>9</th>\n",
       "      <td>Weather to have children or not is one of the ...</td>\n",
       "      <td>0</td>\n",
       "    </tr>\n",
       "  </tbody>\n",
       "</table>\n",
       "</div>"
      ],
      "text/plain": [
       "                                               essay  label\n",
       "0  International sports events require the most w...      0\n",
       "1  Globalisation has become a significant aspect ...      0\n",
       "2  There is an ever-increasing number of bullying...      0\n",
       "3  It is commonly believed, that companies should...      0\n",
       "4  Despite knowing about the adverse effects of c...      0\n",
       "5  These days the space exploration is not just a...      0\n",
       "6  Regarding the suggestions that governments sho...      0\n",
       "7  The ability to associate at school has been a ...      0\n",
       "8  It is true that today, people tend to give bir...      0\n",
       "9  Weather to have children or not is one of the ...      0"
      ]
     },
     "execution_count": 69,
     "metadata": {},
     "output_type": "execute_result"
    }
   ],
   "source": [
    "# sample text of the first 10 data in the train data\n",
    "df_train.head(10)"
   ]
  },
  {
   "cell_type": "code",
   "execution_count": 70,
   "metadata": {},
   "outputs": [
    {
     "data": {
      "image/png": "[encoded data removed]",
      "text/plain": [
       "<Figure size 800x600 with 1 Axes>"
      ]
     },
     "metadata": {},
     "output_type": "display_data"
    }
   ],
   "source": [
    "# A visualization of the distribution of the label category\n",
    "\n",
    "# Count class occurrences in label category\n",
    "class_counts = df_train['label'].value_counts()\n",
    "\n",
    "# Bar plot\n",
    "plt.figure(figsize=(8, 6))\n",
    "class_counts.plot(kind='bar', color=['green', 'red'])  # Customize colors as needed\n",
    "plt.title(\"Class Distribution of label\")\n",
    "plt.xlabel(\"label\")\n",
    "plt.ylabel(\"Number of essays\")\n",
    "plt.xticks(rotation=0)\n",
    "plt.grid(axis='y', linestyle='--', alpha=0.7)\n",
    "plt.show()"
   ]
  },
  {
   "attachments": {},
   "cell_type": "markdown",
   "metadata": {},
   "source": [
    "## Task 2: Text Preprocessing"
   ]
  },
  {
   "attachments": {},
   "cell_type": "markdown",
   "metadata": {},
   "source": [
    "<span style=\"color:blue; font-size:20px;\">Removing stopWords.</span>\n"
   ]
  },
  {
   "cell_type": "code",
   "execution_count": 71,
   "metadata": {},
   "outputs": [
    {
     "data": {
      "text/html": [
       "<div>\n",
       "<style scoped>\n",
       "    .dataframe tbody tr th:only-of-type {\n",
       "        vertical-align: middle;\n",
       "    }\n",
       "\n",
       "    .dataframe tbody tr th {\n",
       "        vertical-align: top;\n",
       "    }\n",
       "\n",
       "    .dataframe thead th {\n",
       "        text-align: right;\n",
       "    }\n",
       "</style>\n",
       "<table border=\"1\" class=\"dataframe\">\n",
       "  <thead>\n",
       "    <tr style=\"text-align: right;\">\n",
       "      <th></th>\n",
       "      <th>essay</th>\n",
       "      <th>label</th>\n",
       "      <th>clean_essay</th>\n",
       "    </tr>\n",
       "  </thead>\n",
       "  <tbody>\n",
       "    <tr>\n",
       "      <th>0</th>\n",
       "      <td>International sports events require the most w...</td>\n",
       "      <td>0</td>\n",
       "      <td>international sports events require welltraine...</td>\n",
       "    </tr>\n",
       "    <tr>\n",
       "      <th>1</th>\n",
       "      <td>Globalisation has become a significant aspect ...</td>\n",
       "      <td>0</td>\n",
       "      <td>globalisation become significant aspect world’...</td>\n",
       "    </tr>\n",
       "    <tr>\n",
       "      <th>2</th>\n",
       "      <td>There is an ever-increasing number of bullying...</td>\n",
       "      <td>0</td>\n",
       "      <td>everincreasing number bullying activities nume...</td>\n",
       "    </tr>\n",
       "    <tr>\n",
       "      <th>3</th>\n",
       "      <td>It is commonly believed, that companies should...</td>\n",
       "      <td>0</td>\n",
       "      <td>commonly believed companies dress code policy ...</td>\n",
       "    </tr>\n",
       "    <tr>\n",
       "      <th>4</th>\n",
       "      <td>Despite knowing about the adverse effects of c...</td>\n",
       "      <td>0</td>\n",
       "      <td>despite knowing adverse effects climate change...</td>\n",
       "    </tr>\n",
       "  </tbody>\n",
       "</table>\n",
       "</div>"
      ],
      "text/plain": [
       "                                               essay  label  \\\n",
       "0  International sports events require the most w...      0   \n",
       "1  Globalisation has become a significant aspect ...      0   \n",
       "2  There is an ever-increasing number of bullying...      0   \n",
       "3  It is commonly believed, that companies should...      0   \n",
       "4  Despite knowing about the adverse effects of c...      0   \n",
       "\n",
       "                                         clean_essay  \n",
       "0  international sports events require welltraine...  \n",
       "1  globalisation become significant aspect world’...  \n",
       "2  everincreasing number bullying activities nume...  \n",
       "3  commonly believed companies dress code policy ...  \n",
       "4  despite knowing adverse effects climate change...  "
      ]
     },
     "execution_count": 71,
     "metadata": {},
     "output_type": "execute_result"
    }
   ],
   "source": [
    "\n",
    "\n",
    "def remove_stopwords(essay):\n",
    "    \"\"\"\n",
    "    Cleans and processes an essay string.\n",
    "\n",
    "    This function takes a raw essay  and performs several text cleaning steps:\n",
    "    1. Checks if the input is a string; returns an empty string otherwise.\n",
    "    2. Defines a list of common English stopwords and additional custom words to remove.\n",
    "    3. Removes all punctuation from the tweet.\n",
    "    4. Removes the defined stopwords from the tweet.\n",
    "    5. Joins the remaining words back into a single cleaned string.\n",
    "\n",
    "    Args:\n",
    "        essay (str): The input tweet string to be processed.\n",
    "\n",
    "    Returns:\n",
    "        str: The cleaned essay string with punctuation and stopwords removed,\n",
    "             or an empty string if the input was not a string.\n",
    "    \"\"\"\n",
    "    # Handle non-string values gracefully\n",
    "    if not isinstance(essay, str):\n",
    "        return \"\"\n",
    "\n",
    "    # Define a set of stopwords, including standard English stopwords and some custom ones\n",
    "    STOPWORDS = stopwords.words('english') + ['u', 'ü', 'ur', '4', '2', 'im', 'dont', 'doin', 'ure']\n",
    "\n",
    "    # Remove punctuation from the tweet\n",
    "    essay = essay.lower()\n",
    "    nopunc = ''.join([char for char in essay if char not in string.punctuation])\n",
    "\n",
    "    # Remove stopwords and join the words back into a string\n",
    "    return ' '.join([word for word in nopunc.split() if word.lower() not in STOPWORDS])\n",
    "\n",
    "\n",
    "\n",
    "df_train[\"clean_essay\"] = df_train[\"essay\"].apply(remove_stopwords) #applying stopwords to the train data\n",
    "df_test[\"clean_essay\"] = df_test[\"essay\"].apply(remove_stopwords)    #applying stopwords to the test data\n",
    "\n",
    "\n",
    "#show the first 5 data of the train data with the new column for clean essays\n",
    "df_train.head(5) \n",
    "\n"
   ]
  },
  {
   "cell_type": "code",
   "execution_count": 72,
   "metadata": {},
   "outputs": [
    {
     "data": {
      "text/html": [
       "<div>\n",
       "<style scoped>\n",
       "    .dataframe tbody tr th:only-of-type {\n",
       "        vertical-align: middle;\n",
       "    }\n",
       "\n",
       "    .dataframe tbody tr th {\n",
       "        vertical-align: top;\n",
       "    }\n",
       "\n",
       "    .dataframe thead th {\n",
       "        text-align: right;\n",
       "    }\n",
       "</style>\n",
       "<table border=\"1\" class=\"dataframe\">\n",
       "  <thead>\n",
       "    <tr style=\"text-align: right;\">\n",
       "      <th></th>\n",
       "      <th>essay</th>\n",
       "      <th>clean_essay</th>\n",
       "    </tr>\n",
       "  </thead>\n",
       "  <tbody>\n",
       "    <tr>\n",
       "      <th>0</th>\n",
       "      <td>International sports events require the most w...</td>\n",
       "      <td>international sports events require welltraine...</td>\n",
       "    </tr>\n",
       "    <tr>\n",
       "      <th>1</th>\n",
       "      <td>Globalisation has become a significant aspect ...</td>\n",
       "      <td>globalisation become significant aspect world’...</td>\n",
       "    </tr>\n",
       "    <tr>\n",
       "      <th>2</th>\n",
       "      <td>There is an ever-increasing number of bullying...</td>\n",
       "      <td>everincreasing number bullying activities nume...</td>\n",
       "    </tr>\n",
       "    <tr>\n",
       "      <th>3</th>\n",
       "      <td>It is commonly believed, that companies should...</td>\n",
       "      <td>commonly believed companies dress code policy ...</td>\n",
       "    </tr>\n",
       "    <tr>\n",
       "      <th>4</th>\n",
       "      <td>Despite knowing about the adverse effects of c...</td>\n",
       "      <td>despite knowing adverse effects climate change...</td>\n",
       "    </tr>\n",
       "  </tbody>\n",
       "</table>\n",
       "</div>"
      ],
      "text/plain": [
       "                                               essay  \\\n",
       "0  International sports events require the most w...   \n",
       "1  Globalisation has become a significant aspect ...   \n",
       "2  There is an ever-increasing number of bullying...   \n",
       "3  It is commonly believed, that companies should...   \n",
       "4  Despite knowing about the adverse effects of c...   \n",
       "\n",
       "                                         clean_essay  \n",
       "0  international sports events require welltraine...  \n",
       "1  globalisation become significant aspect world’...  \n",
       "2  everincreasing number bullying activities nume...  \n",
       "3  commonly believed companies dress code policy ...  \n",
       "4  despite knowing adverse effects climate change...  "
      ]
     },
     "execution_count": 72,
     "metadata": {},
     "output_type": "execute_result"
    }
   ],
   "source": [
    "#Display to show the comparison of the first 5 data before and after applying stopwords in clean data.(Examples)\n",
    "df_train[['essay','clean_essay']].head(5)\n",
    "\n",
    "\n"
   ]
  },
  {
   "cell_type": "code",
   "execution_count": 73,
   "metadata": {},
   "outputs": [
    {
     "name": "stdout",
     "output_type": "stream",
     "text": [
      "Vocabulary size before stopword removal: 42702\n",
      "Vocabulary size after stopword removal: 26505\n"
     ]
    }
   ],
   "source": [
    "# Tokenize each tweet by splitting on blank or space.\n",
    "original_tokenized_essay = df_train['essay'].apply(lambda tweet: tweet.split()) #spliting training text without applying stopwords.\n",
    "clean_tokenized_essay = df_train['clean_essay'].apply(lambda tweet: tweet.split()) #spliting training text after applying stopwords.\n",
    "clean_tokenized_test_essay = df_test['clean_essay'].apply(lambda tweet: tweet.split()) #splitting the test data.\n",
    "\n",
    "\n",
    "df_train['clean_tokens'] = clean_tokenized_essay  #creating a column with name \"clean tokens\" in training data\n",
    "df_test['clean_tokens'] = clean_tokenized_test_essay   #creating a column with name \"clean tokens\" in test data\n",
    "\n",
    "\n",
    "# Flatten the list of token lists into a single list of tokens\n",
    "all_old_tokens = [word for tokens in original_tokenized_essay for word in tokens]\n",
    "all_new_tokens = [word for tokens in clean_tokenized_essay for word in tokens]\n",
    "\n",
    "\n",
    "\n",
    "old_vocab = set(all_old_tokens)\n",
    "new_vocab = set(all_new_tokens)\n",
    "\n",
    "#showing the difference vocabulary size before and after applying stop word removal.\n",
    "print(\"Vocabulary size before stopword removal:\", len(old_vocab))\n",
    "print(\"Vocabulary size after stopword removal:\", len(new_vocab))"
   ]
  },
  {
   "attachments": {},
   "cell_type": "markdown",
   "metadata": {},
   "source": [
    "<span style=\"color:blue; font-size:20px;\">Stemming and lemmitaization.</span>"
   ]
  },
  {
   "cell_type": "code",
   "execution_count": 74,
   "metadata": {},
   "outputs": [],
   "source": [
    "# stemming and lemmitization\n",
    "\n",
    "def preprocess_stem(tokens):\n",
    "    \"\"\"\n",
    "    Apply Porter Stemming to a list of tokens.\n",
    "\n",
    "    Args:\n",
    "        tokens (list): A list of word tokens (already tokenized and stopword-removed)\n",
    "\n",
    "    Returns:\n",
    "        list: Stemmed tokens\n",
    "    \"\"\"\n",
    "    stemmer = PorterStemmer()\n",
    "    return [stemmer.stem(token) for token in tokens]\n",
    "\n",
    "\n",
    "# Helper: Map POS tag to WordNet format\n",
    "def get_wordnet_pos(tag):\n",
    "    if tag.startswith('J'):\n",
    "        return wordnet.ADJ\n",
    "    elif tag.startswith('V'):\n",
    "        return wordnet.VERB\n",
    "    elif tag.startswith('N'):\n",
    "        return wordnet.NOUN\n",
    "    elif tag.startswith('R'):\n",
    "        return wordnet.ADV\n",
    "    else:\n",
    "        return wordnet.NOUN  # Default\n",
    "\n",
    "# Main Lemmatization Function\n",
    "def preprocess_lematise(tokens):\n",
    "    \"\"\"\n",
    "    Apply lemmatization with POS tagging to a list of tokens.\n",
    "\n",
    "    Args:\n",
    "        tokens (list): Tokenized words (already cleaned and stopword-removed)\n",
    "\n",
    "    Returns:\n",
    "        list: Lemmatized tokens\n",
    "    \"\"\"\n",
    "    lemmatizer = WordNetLemmatizer()\n",
    "    pos_tags = pos_tag(tokens)\n",
    "    return [\n",
    "        lemmatizer.lemmatize(word, get_wordnet_pos(tag))\n",
    "        for word, tag in pos_tags\n",
    "    ]\n",
    "\n",
    "df_train[\"stemmed_tokens\"] = df_train[\"clean_tokens\"].apply(preprocess_stem)      #applying stemming on training data\n",
    "df_train[\"lemmatized_tokens\"] = df_train[\"clean_tokens\"].apply(preprocess_lematise)    #applying lemitiaztion on training data\n",
    "\n",
    "\n",
    "\n",
    "df_test[\"lemmatized_tokens\"] = df_test[\"clean_tokens\"].apply(preprocess_lematise)     #applying lemitiaztion on test data\n",
    "\n",
    "\n",
    "\n",
    "\n"
   ]
  },
  {
   "cell_type": "code",
   "execution_count": 75,
   "metadata": {},
   "outputs": [
    {
     "data": {
      "text/html": [
       "<div>\n",
       "<style scoped>\n",
       "    .dataframe tbody tr th:only-of-type {\n",
       "        vertical-align: middle;\n",
       "    }\n",
       "\n",
       "    .dataframe tbody tr th {\n",
       "        vertical-align: top;\n",
       "    }\n",
       "\n",
       "    .dataframe thead th {\n",
       "        text-align: right;\n",
       "    }\n",
       "</style>\n",
       "<table border=\"1\" class=\"dataframe\">\n",
       "  <thead>\n",
       "    <tr style=\"text-align: right;\">\n",
       "      <th></th>\n",
       "      <th>clean_tokens</th>\n",
       "      <th>stemmed_tokens</th>\n",
       "      <th>lemmatized_tokens</th>\n",
       "    </tr>\n",
       "  </thead>\n",
       "  <tbody>\n",
       "    <tr>\n",
       "      <th>0</th>\n",
       "      <td>[international, sports, events, require, wellt...</td>\n",
       "      <td>[intern, sport, event, requir, welltrain, athl...</td>\n",
       "      <td>[international, sport, event, require, welltra...</td>\n",
       "    </tr>\n",
       "    <tr>\n",
       "      <th>1</th>\n",
       "      <td>[globalisation, become, significant, aspect, w...</td>\n",
       "      <td>[globalis, becom, signific, aspect, world’, mo...</td>\n",
       "      <td>[globalisation, become, significant, aspect, w...</td>\n",
       "    </tr>\n",
       "    <tr>\n",
       "      <th>2</th>\n",
       "      <td>[everincreasing, number, bullying, activities,...</td>\n",
       "      <td>[everincreas, number, bulli, activ, numer, sch...</td>\n",
       "      <td>[everincreasing, number, bullying, activity, n...</td>\n",
       "    </tr>\n",
       "    <tr>\n",
       "      <th>3</th>\n",
       "      <td>[commonly, believed, companies, dress, code, p...</td>\n",
       "      <td>[commonli, believ, compani, dress, code, polic...</td>\n",
       "      <td>[commonly, believe, company, dress, code, poli...</td>\n",
       "    </tr>\n",
       "    <tr>\n",
       "      <th>4</th>\n",
       "      <td>[despite, knowing, adverse, effects, climate, ...</td>\n",
       "      <td>[despit, know, advers, effect, climat, chang, ...</td>\n",
       "      <td>[despite, know, adverse, effect, climate, chan...</td>\n",
       "    </tr>\n",
       "    <tr>\n",
       "      <th>5</th>\n",
       "      <td>[days, space, exploration, imagination, since,...</td>\n",
       "      <td>[day, space, explor, imagin, sinc, human, be, ...</td>\n",
       "      <td>[day, space, exploration, imagination, since, ...</td>\n",
       "    </tr>\n",
       "    <tr>\n",
       "      <th>6</th>\n",
       "      <td>[regarding, suggestions, governments, offord, ...</td>\n",
       "      <td>[regard, suggest, govern, offord, tuition, sub...</td>\n",
       "      <td>[regard, suggestion, government, offord, tuiti...</td>\n",
       "    </tr>\n",
       "    <tr>\n",
       "      <th>7</th>\n",
       "      <td>[ability, associate, school, great, concern, o...</td>\n",
       "      <td>[abil, associ, school, great, concern, owe, as...</td>\n",
       "      <td>[ability, associate, school, great, concern, o...</td>\n",
       "    </tr>\n",
       "    <tr>\n",
       "      <th>8</th>\n",
       "      <td>[true, today, people, tend, give, birth, older...</td>\n",
       "      <td>[true, today, peopl, tend, give, birth, older,...</td>\n",
       "      <td>[true, today, people, tend, give, birth, older...</td>\n",
       "    </tr>\n",
       "    <tr>\n",
       "      <th>9</th>\n",
       "      <td>[weather, children, one, important, questions,...</td>\n",
       "      <td>[weather, children, one, import, question, you...</td>\n",
       "      <td>[weather, child, one, important, question, you...</td>\n",
       "    </tr>\n",
       "  </tbody>\n",
       "</table>\n",
       "</div>"
      ],
      "text/plain": [
       "                                        clean_tokens  \\\n",
       "0  [international, sports, events, require, wellt...   \n",
       "1  [globalisation, become, significant, aspect, w...   \n",
       "2  [everincreasing, number, bullying, activities,...   \n",
       "3  [commonly, believed, companies, dress, code, p...   \n",
       "4  [despite, knowing, adverse, effects, climate, ...   \n",
       "5  [days, space, exploration, imagination, since,...   \n",
       "6  [regarding, suggestions, governments, offord, ...   \n",
       "7  [ability, associate, school, great, concern, o...   \n",
       "8  [true, today, people, tend, give, birth, older...   \n",
       "9  [weather, children, one, important, questions,...   \n",
       "\n",
       "                                      stemmed_tokens  \\\n",
       "0  [intern, sport, event, requir, welltrain, athl...   \n",
       "1  [globalis, becom, signific, aspect, world’, mo...   \n",
       "2  [everincreas, number, bulli, activ, numer, sch...   \n",
       "3  [commonli, believ, compani, dress, code, polic...   \n",
       "4  [despit, know, advers, effect, climat, chang, ...   \n",
       "5  [day, space, explor, imagin, sinc, human, be, ...   \n",
       "6  [regard, suggest, govern, offord, tuition, sub...   \n",
       "7  [abil, associ, school, great, concern, owe, as...   \n",
       "8  [true, today, peopl, tend, give, birth, older,...   \n",
       "9  [weather, children, one, import, question, you...   \n",
       "\n",
       "                                   lemmatized_tokens  \n",
       "0  [international, sport, event, require, welltra...  \n",
       "1  [globalisation, become, significant, aspect, w...  \n",
       "2  [everincreasing, number, bullying, activity, n...  \n",
       "3  [commonly, believe, company, dress, code, poli...  \n",
       "4  [despite, know, adverse, effect, climate, chan...  \n",
       "5  [day, space, exploration, imagination, since, ...  \n",
       "6  [regard, suggestion, government, offord, tuiti...  \n",
       "7  [ability, associate, school, great, concern, o...  \n",
       "8  [true, today, people, tend, give, birth, older...  \n",
       "9  [weather, child, one, important, question, you...  "
      ]
     },
     "execution_count": 75,
     "metadata": {},
     "output_type": "execute_result"
    }
   ],
   "source": [
    "# A comparison of clean token,stemmed tokens and lemitized tokens in the firt 10 data in the training data.\n",
    "df_train[['clean_tokens','stemmed_tokens','lemmatized_tokens']].head(10)\n",
    "\n"
   ]
  },
  {
   "attachments": {},
   "cell_type": "markdown",
   "metadata": {},
   "source": [
    "## Task 3: Feature Extraction "
   ]
  },
  {
   "attachments": {},
   "cell_type": "markdown",
   "metadata": {},
   "source": [
    "<span style=\"color:blue; font-size:20px;\">All other works used the lemitized tokens</span>\n"
   ]
  },
  {
   "cell_type": "code",
   "execution_count": 76,
   "metadata": {},
   "outputs": [],
   "source": [
    "#join the token back to form text for both train and test data.\n",
    "df_train['lemmatized_text'] = df_train['lemmatized_tokens'].apply(lambda tokens: ' '.join(tokens))\n",
    "df_test['lemmatized_text'] = df_test['lemmatized_tokens'].apply(lambda tokens: ' '.join(tokens))\n",
    "\n",
    "\n",
    "#Initialize most important component in the training data(preparing for feature extraction)\n",
    "X = df_train[\"lemmatized_text\"]\n",
    "y = df_train[\"label\"]\n",
    "\n",
    "\n",
    "# Split training data into train and validation sets\n",
    "\n",
    "X_train,X_val,y_train,y_val = train_test_split(X,y,test_size=0.2,random_state=42,stratify=y)\n",
    "\n",
    "\n",
    "#use the count vectorizer to extract features.\n",
    "vectorizer = CountVectorizer(ngram_range=(1, 2),max_features=5000,min_df=5,max_df=0.8,)\n",
    "X_train_count = vectorizer.fit_transform(X_train)\n",
    "X_val_count = vectorizer.transform(X_val)"
   ]
  },
  {
   "attachments": {},
   "cell_type": "markdown",
   "metadata": {},
   "source": [
    "<span style=\"color:blue; font-size:20px;\">Using the TFIDF vectorizer (All other works will be done using the TFIDF vectorizer)</span>\n"
   ]
  },
  {
   "cell_type": "code",
   "execution_count": 77,
   "metadata": {},
   "outputs": [],
   "source": [
    "\n",
    "#use the TFIDF vectorizer to vectorise.\n",
    "\n",
    "\n",
    "vectorizer = TfidfVectorizer(ngram_range=(1, 2),max_features=5000,min_df=5,max_df=0.8,)\n",
    "X_train_tfid = vectorizer.fit_transform(X_train)\n",
    "X_val_tfid = vectorizer.transform(X_val)\n",
    "\n",
    "\n",
    "X_test_tfid =vectorizer.transform(df_test['lemmatized_text'])\n",
    "\n",
    "\n",
    "\n"
   ]
  },
  {
   "attachments": {},
   "cell_type": "markdown",
   "metadata": {},
   "source": [
    "## Task 4: Machine Learning Model Development A -  (SVM calssifiers)"
   ]
  },
  {
   "attachments": {},
   "cell_type": "markdown",
   "metadata": {},
   "source": [
    "<span style=\"color:blue; font-size:20px;\">Building an svm classifier with Kernel =\"linear\"</span>"
   ]
  },
  {
   "cell_type": "code",
   "execution_count": 78,
   "metadata": {},
   "outputs": [],
   "source": [
    "# Train svm model\n",
    "svm_linear = SVC(kernel='linear', C=1.0, probability=True)  # C=1.0 is default\n",
    "svm_linear.fit(X_train_tfid, y_train)\n",
    "\n",
    "y_pred_linear = svm_linear.predict(X_val_tfid)\n",
    "\n",
    "\n"
   ]
  },
  {
   "attachments": {},
   "cell_type": "markdown",
   "metadata": {},
   "source": [
    "<span style=\"color:blue; font-size:20px;\">Performance metrics of svm classifier with kernel = \"linear\"</span>\n"
   ]
  },
  {
   "cell_type": "code",
   "execution_count": 79,
   "metadata": {},
   "outputs": [
    {
     "name": "stdout",
     "output_type": "stream",
     "text": [
      "              precision    recall  f1-score   support\n",
      "\n",
      "           0       0.98      0.97      0.98       373\n",
      "           1       0.97      0.98      0.98       373\n",
      "\n",
      "    accuracy                           0.98       746\n",
      "   macro avg       0.98      0.98      0.98       746\n",
      "weighted avg       0.98      0.98      0.98       746\n",
      "\n",
      "The confusion matrix is :\n",
      " [[363  10]\n",
      " [  8 365]]\n"
     ]
    }
   ],
   "source": [
    "\n",
    "#print the preciion accuracy and other reports\n",
    "print(metrics.classification_report(y_val, y_pred_linear))\n",
    "# Print the confusion matrix\n",
    "print(\"The confusion matrix is :\\n\",  metrics.confusion_matrix(y_val,y_pred_linear))\n",
    "\n",
    "\n"
   ]
  },
  {
   "cell_type": "code",
   "execution_count": 81,
   "metadata": {},
   "outputs": [
    {
     "name": "stderr",
     "output_type": "stream",
     "text": [
      "C:\\Users\\NikoBelin\\AppData\\Local\\Temp\\ipykernel_23480\\1767758237.py:13: UserWarning: color is redundantly defined by the 'color' keyword argument and the fmt string \"k--\" (-> color='k'). The keyword argument will take precedence.\n",
      "  plt.plot([0, 1], [0, 1], 'k--', color='gray')\n"
     ]
    },
    {
     "data": {
      "image/png": "[encoded data removed]",
      "text/plain": [
       "<Figure size 800x600 with 1 Axes>"
      ]
     },
     "metadata": {},
     "output_type": "display_data"
    }
   ],
   "source": [
    "from sklearn.metrics import roc_curve, auc\n",
    "import matplotlib.pyplot as plt\n",
    "\n",
    "# Get predicted probabilities (scores) for the positive class\n",
    "y_scores_linear = svm_linear.predict_proba(X_val_tfid)[:, 1]  # Probabilities for class 1\n",
    "\n",
    "# --- ROC Curve ---\n",
    "fpr_linear, tpr_linear, _ = roc_curve(y_val, y_scores_linear)\n",
    "roc_auc_linear = auc(fpr_linear, tpr_linear)\n",
    "\n",
    "plt.figure(figsize=(8, 6))\n",
    "plt.plot(fpr_linear, tpr_linear, label=f'ROC Curve (AUC = {roc_auc_linear:.2f})')\n",
    "plt.plot([0, 1], [0, 1], 'k--', color='gray')\n",
    "plt.xlabel('False Positive Rate')\n",
    "plt.ylabel('True Positive Rate (Recall)')\n",
    "plt.title('ROC Curve - SVM (Linear)')\n",
    "plt.legend(loc='lower right')\n",
    "plt.grid(True)\n",
    "plt.show()\n",
    "\n",
    "\n",
    "\n",
    "\n",
    "\n",
    "\n",
    "\n",
    "\n"
   ]
  },
  {
   "attachments": {},
   "cell_type": "markdown",
   "metadata": {},
   "source": [
    "<span style=\"color:blue; font-size:20px;\">Building an svm classifier with Kernel =\"rbf\"</span>"
   ]
  },
  {
   "cell_type": "code",
   "execution_count": 82,
   "metadata": {},
   "outputs": [],
   "source": [
    "svm_rbf = SVC(kernel='rbf', C=1.0, probability=True)  # gamma='scale' is default\n",
    "svm_rbf.fit(X_train_tfid, y_train)\n",
    "\n",
    "y_pred_rbf = svm_rbf.predict(X_val_tfid)\n",
    "\n"
   ]
  },
  {
   "attachments": {},
   "cell_type": "markdown",
   "metadata": {},
   "source": [
    "<span style=\"color:blue; font-size:20px;\">Performance metrics of svm classifier with kernel = \"rbf\"</span>"
   ]
  },
  {
   "cell_type": "code",
   "execution_count": 83,
   "metadata": {},
   "outputs": [
    {
     "name": "stdout",
     "output_type": "stream",
     "text": [
      "              precision    recall  f1-score   support\n",
      "\n",
      "           0       0.94      0.95      0.94       373\n",
      "           1       0.95      0.94      0.94       373\n",
      "\n",
      "    accuracy                           0.94       746\n",
      "   macro avg       0.94      0.94      0.94       746\n",
      "weighted avg       0.94      0.94      0.94       746\n",
      "\n",
      "The confusion metrics is :\n",
      " [[354  19]\n",
      " [ 23 350]]\n"
     ]
    }
   ],
   "source": [
    "print(metrics.classification_report(y_val, y_pred_rbf))\n",
    "# Print the confusion matrix\n",
    "print(\"The confusion metrics is :\\n\", metrics.confusion_matrix(y_val,y_pred_rbf))\n"
   ]
  },
  {
   "cell_type": "code",
   "execution_count": 84,
   "metadata": {},
   "outputs": [
    {
     "name": "stderr",
     "output_type": "stream",
     "text": [
      "C:\\Users\\NikoBelin\\AppData\\Local\\Temp\\ipykernel_23480\\968819893.py:13: UserWarning: color is redundantly defined by the 'color' keyword argument and the fmt string \"k--\" (-> color='k'). The keyword argument will take precedence.\n",
      "  plt.plot([0, 1], [0, 1], 'k--', color='gray')\n"
     ]
    },
    {
     "data": {
      "image/png": "[encoded data removed]",
      "text/plain": [
       "<Figure size 800x600 with 1 Axes>"
      ]
     },
     "metadata": {},
     "output_type": "display_data"
    }
   ],
   "source": [
    "from sklearn.metrics import roc_curve, auc, precision_recall_curve\n",
    "import matplotlib.pyplot as plt\n",
    "\n",
    "# Get predicted probabilities (scores) for the positive class\n",
    "y_scores_rbf = svm_rbf.predict_proba(X_val_tfid)[:, 1]  # Probabilities for class 1\n",
    "\n",
    "# --- ROC Curve ---\n",
    "fpr_rbf, tpr_rbf, _ = roc_curve(y_val, y_scores_rbf)\n",
    "roc_auc_rbf = auc(fpr_rbf, tpr_rbf)\n",
    "\n",
    "plt.figure(figsize=(8, 6))\n",
    "plt.plot(fpr_rbf, tpr_rbf, label=f'ROC Curve (AUC = {roc_auc_rbf:.2f})')\n",
    "plt.plot([0, 1], [0, 1], 'k--', color='gray')\n",
    "plt.xlabel('False Positive Rate')\n",
    "plt.ylabel('True Positive Rate (Recall)')\n",
    "plt.title('ROC Curve - SVM (RBF)')\n",
    "plt.legend(loc='lower right')\n",
    "plt.grid(True)\n",
    "plt.show()\n",
    "\n",
    "\n"
   ]
  },
  {
   "attachments": {},
   "cell_type": "markdown",
   "metadata": {},
   "source": [
    "## Task 4: Machine Learning Model Development B - Decision tree classifiers"
   ]
  },
  {
   "attachments": {},
   "cell_type": "markdown",
   "metadata": {},
   "source": [
    "<span style=\"color:blue; font-size:20px;\">Building an DecisionTree classifier with criterion =\"gini\"</span>"
   ]
  },
  {
   "cell_type": "code",
   "execution_count": 85,
   "metadata": {},
   "outputs": [],
   "source": [
    "# decision tree\n",
    "\n",
    "tree_gini = DecisionTreeClassifier(\n",
    "    criterion='gini',\n",
    "    max_depth=10,\n",
    "    min_samples_split=5,\n",
    "    min_samples_leaf=2,\n",
    "    random_state=42\n",
    ")\n",
    "tree_gini.fit(X_train_tfid, y_train)\n",
    "y_pred_gini = tree_gini.predict(X_val_tfid)"
   ]
  },
  {
   "attachments": {},
   "cell_type": "markdown",
   "metadata": {},
   "source": [
    "<span style=\"color:blue; font-size:20px;\">Performance metrics of Decision tree classifier with Criterion = \"gini\"</span>"
   ]
  },
  {
   "cell_type": "code",
   "execution_count": 86,
   "metadata": {},
   "outputs": [
    {
     "name": "stdout",
     "output_type": "stream",
     "text": [
      "              precision    recall  f1-score   support\n",
      "\n",
      "           0       0.90      0.92      0.91       373\n",
      "           1       0.92      0.90      0.91       373\n",
      "\n",
      "    accuracy                           0.91       746\n",
      "   macro avg       0.91      0.91      0.91       746\n",
      "weighted avg       0.91      0.91      0.91       746\n",
      "\n",
      "The confusion matrix is :\n",
      " [[344  29]\n",
      " [ 38 335]]\n"
     ]
    }
   ],
   "source": [
    "print(metrics.classification_report(y_val, y_pred_gini))\n",
    "# Print the confusion matrix\n",
    "print(\"The confusion matrix is :\\n\", metrics.confusion_matrix(y_val,y_pred_gini))"
   ]
  },
  {
   "cell_type": "code",
   "execution_count": 87,
   "metadata": {},
   "outputs": [
    {
     "name": "stderr",
     "output_type": "stream",
     "text": [
      "C:\\Users\\NikoBelin\\AppData\\Local\\Temp\\ipykernel_23480\\1927157910.py:10: UserWarning: color is redundantly defined by the 'color' keyword argument and the fmt string \"k--\" (-> color='k'). The keyword argument will take precedence.\n",
      "  plt.plot([0, 1], [0, 1], 'k--', color='gray')\n"
     ]
    },
    {
     "data": {
      "image/png": "[encoded data removed]",
      "text/plain": [
       "<Figure size 800x600 with 1 Axes>"
      ]
     },
     "metadata": {},
     "output_type": "display_data"
    }
   ],
   "source": [
    "# Get predicted probabilities for the positive class (class 1)\n",
    "y_scores_gini = tree_gini.predict_proba(X_val_tfid)[:, 1]\n",
    "\n",
    "# --- ROC Curve ---\n",
    "fpr_gini, tpr_gini, _ = roc_curve(y_val, y_scores_gini)\n",
    "roc_auc_gini = auc(fpr_gini, tpr_gini)\n",
    "\n",
    "plt.figure(figsize=(8, 6))\n",
    "plt.plot(fpr_gini, tpr_gini, label=f'ROC Curve (AUC = {roc_auc_gini:.2f})')\n",
    "plt.plot([0, 1], [0, 1], 'k--', color='gray')\n",
    "plt.xlabel('False Positive Rate')\n",
    "plt.ylabel('True Positive Rate (Recall)')\n",
    "plt.title('ROC Curve - Decision Tree (Gini)')\n",
    "plt.legend(loc='lower right')\n",
    "plt.grid(True)\n",
    "plt.show()\n",
    "\n"
   ]
  },
  {
   "attachments": {},
   "cell_type": "markdown",
   "metadata": {},
   "source": [
    "<span style=\"color:blue; font-size:20px;\">Building an DecisionTree classifier with criterion =\"entropy\"</span>"
   ]
  },
  {
   "cell_type": "code",
   "execution_count": 88,
   "metadata": {},
   "outputs": [],
   "source": [
    "tree_entropy = DecisionTreeClassifier(\n",
    "    criterion='entropy',\n",
    "    max_depth=10,\n",
    "    min_samples_split=5,\n",
    "    min_samples_leaf=2,\n",
    "    random_state=42\n",
    ")\n",
    "tree_entropy.fit(X_train_tfid, y_train)\n",
    "y_pred_entropy = tree_entropy.predict(X_val_tfid)\n"
   ]
  },
  {
   "attachments": {},
   "cell_type": "markdown",
   "metadata": {},
   "source": [
    "<span style=\"color:blue; font-size:20px;\">Performance metrics of Decision tree classifier with Criterion = \"entropy\"</span>"
   ]
  },
  {
   "cell_type": "code",
   "execution_count": 89,
   "metadata": {},
   "outputs": [
    {
     "name": "stdout",
     "output_type": "stream",
     "text": [
      "              precision    recall  f1-score   support\n",
      "\n",
      "           0       0.92      0.93      0.92       373\n",
      "           1       0.93      0.91      0.92       373\n",
      "\n",
      "    accuracy                           0.92       746\n",
      "   macro avg       0.92      0.92      0.92       746\n",
      "weighted avg       0.92      0.92      0.92       746\n",
      "\n",
      "The confusion matrix is :\n",
      " [[347  26]\n",
      " [ 32 341]]\n"
     ]
    }
   ],
   "source": [
    "print(metrics.classification_report(y_val, y_pred_entropy))\n",
    "# Print the confusion matrix\n",
    "print(\"The confusion matrix is :\\n\", metrics.confusion_matrix(y_val,y_pred_entropy))"
   ]
  },
  {
   "cell_type": "code",
   "execution_count": 90,
   "metadata": {},
   "outputs": [
    {
     "name": "stderr",
     "output_type": "stream",
     "text": [
      "C:\\Users\\NikoBelin\\AppData\\Local\\Temp\\ipykernel_23480\\3518752989.py:10: UserWarning: color is redundantly defined by the 'color' keyword argument and the fmt string \"k--\" (-> color='k'). The keyword argument will take precedence.\n",
      "  plt.plot([0, 1], [0, 1], 'k--', color='gray')\n"
     ]
    },
    {
     "data": {
      "image/png": "[encoded data removed]",
      "text/plain": [
       "<Figure size 800x600 with 1 Axes>"
      ]
     },
     "metadata": {},
     "output_type": "display_data"
    }
   ],
   "source": [
    "# Get predicted probabilities for the positive class\n",
    "y_scores_entropy = tree_entropy.predict_proba(X_val_tfid)[:, 1]\n",
    "\n",
    "# --- ROC Curve ---\n",
    "fpr_entropy, tpr_entropy, _ = roc_curve(y_val, y_scores_entropy)\n",
    "roc_auc_entropy = auc(fpr_entropy, tpr_entropy)\n",
    "\n",
    "plt.figure(figsize=(8, 6))\n",
    "plt.plot(fpr_entropy, tpr_entropy, label=f'ROC Curve (AUC = {roc_auc_entropy:.2f})')\n",
    "plt.plot([0, 1], [0, 1], 'k--', color='gray')\n",
    "plt.xlabel('False Positive Rate')\n",
    "plt.ylabel('True Positive Rate (Recall)')\n",
    "plt.title('ROC Curve - Decision Tree (Entropy)')\n",
    "plt.legend(loc='lower right')\n",
    "plt.grid(True)\n",
    "plt.show()\n"
   ]
  },
  {
   "attachments": {},
   "cell_type": "markdown",
   "metadata": {},
   "source": [
    " ## Task 5: A table showing the different metrics of all classifier used."
   ]
  },
  {
   "cell_type": "code",
   "execution_count": 91,
   "metadata": {},
   "outputs": [
    {
     "name": "stdout",
     "output_type": "stream",
     "text": [
      "                         Accuracy  Precision    Recall  F1 Score\n",
      "SVM (Linear)             0.975871   0.973333  0.978552  0.975936\n",
      "SVM (RBF)                0.943700   0.948509  0.938338  0.943396\n",
      "Decision Tree (Gini)     0.910188   0.920330  0.898123  0.909091\n",
      "Decision Tree (Entropy)  0.922252   0.929155  0.914209  0.921622\n"
     ]
    }
   ],
   "source": [
    "from sklearn.metrics import accuracy_score, precision_score, recall_score, f1_score\n",
    "\n",
    "def get_metrics(y_true, y_pred):\n",
    "    return {\n",
    "        \"Accuracy\": accuracy_score(y_true, y_pred),\n",
    "        \"Precision\": precision_score(y_true, y_pred),\n",
    "        \"Recall\": recall_score(y_true, y_pred),\n",
    "        \"F1 Score\": f1_score(y_true, y_pred)\n",
    "    }\n",
    "\n",
    "models = {\n",
    "    \"SVM (Linear)\": y_pred_linear,\n",
    "    \"SVM (RBF)\": y_pred_rbf,\n",
    "    \"Decision Tree (Gini)\": y_pred_gini,\n",
    "    \"Decision Tree (Entropy)\": y_pred_entropy\n",
    "}\n",
    "\n",
    "comparison_table = {\n",
    "    name: get_metrics(y_val, pred)\n",
    "    for name, pred in models.items()\n",
    "}\n",
    "\n",
    "import pandas as pd\n",
    "comparison_df = pd.DataFrame(comparison_table).T\n",
    "print(comparison_df)\n"
   ]
  },
  {
   "cell_type": "code",
   "execution_count": 92,
   "metadata": {},
   "outputs": [
    {
     "data": {
      "image/png": "[encoded data removed]",
      "text/plain": [
       "<Figure size 1000x600 with 1 Axes>"
      ]
     },
     "metadata": {},
     "output_type": "display_data"
    }
   ],
   "source": [
    "#A bar graph showing all  classifiers.\n",
    "\n",
    "def get_scores(y_true, y_pred):\n",
    "    return {\n",
    "        'Accuracy': accuracy_score(y_true, y_pred),\n",
    "        'Precision': precision_score(y_true, y_pred),\n",
    "        'Recall': recall_score(y_true, y_pred),\n",
    "        'F1 Score': f1_score(y_true, y_pred)\n",
    "    }\n",
    "\n",
    "results = {\n",
    "    \"SVM (Linear)\": get_scores(y_val, y_pred_linear),\n",
    "    \"SVM (RBF)\": get_scores(y_val, y_pred_rbf),\n",
    "    \"Decision Tree (Gini)\": get_scores(y_val, y_pred_gini),\n",
    "    \"Decision Tree (Entropy)\": get_scores(y_val, y_pred_entropy)\n",
    "}\n",
    "\n",
    "\n",
    "\n",
    "# Convert nested dict to tidy DataFrame\n",
    "df_scores = pd.DataFrame(results).T.reset_index().rename(columns={'index': 'Model'})\n",
    "df_melted = df_scores.melt(id_vars='Model', var_name='Metric', value_name='Score')\n",
    "\n",
    "\n",
    "\n",
    "\n",
    "plt.figure(figsize=(10, 6))\n",
    "sns.barplot(data=df_melted, x='Model', y='Score', hue='Metric')\n",
    "plt.title(\"Model Performance Comparison\")\n",
    "plt.xticks(rotation=15)\n",
    "plt.ylim(0, 1)\n",
    "plt.legend(loc='lower right')\n",
    "plt.tight_layout()\n",
    "plt.show()\n"
   ]
  },
  {
   "attachments": {},
   "cell_type": "markdown",
   "metadata": {},
   "source": [
    "## Task 6 : Error Analysis and summary"
   ]
  },
  {
   "attachments": {},
   "cell_type": "markdown",
   "metadata": {},
   "source": [
    "\n",
    "\n",
    "<p style=\"font-size:24px\">\n",
    "Among the four classifiers evaluated, the <strong>the SVM with a linear kernel</strong> achieved the highest performance across all metrics, with an accuracy of <strong>97.6%</strong>, precision of <strong>97.3%</strong>, recall of <strong>97.9%</strong>, and F1 score of <strong>97.6%</strong>. This indicates that it made very few misclassification errors and generalizes well to the validation data.\n",
    "The <strong>SVM with RBF kernel</strong> also performed strongly (<strong>94.4% accuracy</strong>), though slightly behind the linear model, suggesting it may not have captured the data structure as effectively in this case.\n",
    "Between the two decision tree models, the <strong>entropy-based tree</strong> outperformed the <strong>Gini-based tree</strong>, achieving <strong>92.2% accuracy</strong> versus <strong>91.0%</strong>, along with better precision, recall, and F1 scores.\n",
    "Overall, the results suggest that <strong>linear SVM is the most reliable choice</strong> for this task, while the entropy-based decision tree may be a reasonable alternative when <em>interpretability</em> is important. With this result we can best say that the SVM performs better in binary classification task than the Decision tree.\n",
    "</p>\n"
   ]
  },
  {
   "attachments": {},
   "cell_type": "markdown",
   "metadata": {},
   "source": [
    "## Task 7: Using the best classiifer (SVM with kernel = linear) to predict labels for our test data."
   ]
  },
  {
   "cell_type": "code",
   "execution_count": 93,
   "metadata": {},
   "outputs": [],
   "source": [
    "#predicting the labels for the test data using the svm classifier with kernel being linear\n",
    "y_test_predict = svm_linear.predict(X_test_tfid)\n",
    "df_test['label'] = y_test_predict  # overwrites or fills in the label column\n",
    "\n",
    "#saving the excel file with the updated label\n",
    "df_test[['essay', 'label']].to_csv(\"svm_test_predictions.csv\", index=False)\n"
   ]
  },
  {
   "cell_type": "code",
   "execution_count": null,
   "metadata": {},
   "outputs": [],
   "source": []
  }
 ],
 "metadata": {
  "kernelspec": {
   "display_name": "llm",
   "language": "python",
   "name": "python3"
  },
  "language_info": {
   "codemirror_mode": {
    "name": "ipython",
    "version": 3
   },
   "file_extension": ".py",
   "mimetype": "text/x-python",
   "name": "python",
   "nbconvert_exporter": "python",
   "pygments_lexer": "ipython3",
   "version": "3.12.10"
  },
  "orig_nbformat": 4,
  "vscode": {
   "interpreter": {
    "hash": "a4507d1c430fe99ca2409483bc2fa772b7af566e52a4fd459caf8b9ef37753b6"
   }
  }
 },
 "nbformat": 4,
 "nbformat_minor": 2
}
